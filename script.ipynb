{
 "cells": [
  {
   "cell_type": "code",
   "execution_count": 1,
   "metadata": {},
   "outputs": [],
   "source": [
    "import requests\n",
    "from requests.auth import HTTPBasicAuth\n",
    "from os import getenv\n",
    "import csv\n",
    "\n",
    "database = \"companies.csv\"\n",
    "\n",
    "api_key = getenv('companies_house_api_key')\n",
    "if api_key is None:\n",
    "    print(\"No API key found. Save API key as environment variable 'companies_house_api_key'\")\n",
    "    exit()\n",
    "auth = HTTPBasicAuth(api_key,'')\n",
    "\n",
    "def get_company(company_number):\n",
    "    url = 'https://api.company-information.service.gov.uk/company/'\n",
    "\n",
    "    if isinstance(company_number, int):\n",
    "        url += f'{company_number:08d}'\n",
    "    if isinstance(company_number, str):\n",
    "        url += company_number\n",
    "\n",
    "    r = requests.get(url, auth=auth)\n",
    "    if r.status_code != 200:\n",
    "        return None\n",
    "    else:\n",
    "        return r.json()"
   ]
  },
  {
   "cell_type": "code",
   "execution_count": 3,
   "metadata": {},
   "outputs": [],
   "source": [
    "# See how many companies we already have\n",
    "last_company = None\n",
    "with open(database, mode='r', newline='') as csv_file:\n",
    "    csv_reader = csv.reader(csv_file)\n",
    "    last_company = (list(csv_reader)[-1])[1]"
   ]
  },
  {
   "cell_type": "code",
   "execution_count": 8,
   "metadata": {},
   "outputs": [],
   "source": [
    "with open(database, mode='w', newline='') as file:\n",
    "    csv_writer = csv.writer(file)\n",
    "    csv_writer.writerow(last_company)"
   ]
  }
 ],
 "metadata": {
  "kernelspec": {
   "display_name": "Python 3",
   "language": "python",
   "name": "python3"
  },
  "language_info": {
   "codemirror_mode": {
    "name": "ipython",
    "version": 3
   },
   "file_extension": ".py",
   "mimetype": "text/x-python",
   "name": "python",
   "nbconvert_exporter": "python",
   "pygments_lexer": "ipython3",
   "version": "3.11.3"
  },
  "orig_nbformat": 4
 },
 "nbformat": 4,
 "nbformat_minor": 2
}
